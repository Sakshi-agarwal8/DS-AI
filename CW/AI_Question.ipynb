{
  "nbformat": 4,
  "nbformat_minor": 0,
  "metadata": {
    "colab": {
      "name": "AI Question.ipynb",
      "provenance": [],
      "authorship_tag": "ABX9TyNYoW0OueLUHQRu7pTM9NCx",
      "include_colab_link": true
    },
    "kernelspec": {
      "name": "python3",
      "display_name": "Python 3"
    }
  },
  "cells": [
    {
      "cell_type": "markdown",
      "metadata": {
        "id": "view-in-github",
        "colab_type": "text"
      },
      "source": [
        "<a href=\"https://colab.research.google.com/github/Sakshi-agarwal8/DS-AI/blob/master/CW/AI_Question.ipynb\" target=\"_parent\"><img src=\"https://colab.research.google.com/assets/colab-badge.svg\" alt=\"Open In Colab\"/></a>"
      ]
    },
    {
      "cell_type": "markdown",
      "metadata": {
        "id": "hInvug-Kb3Bz",
        "colab_type": "text"
      },
      "source": [
        "1) Read any csv file or any json file in df with 6 cols atleast and 1000 rows\n",
        "\n",
        "2) Split the file into test and train using pandas with a user input for the ratio of split\n",
        "\n",
        "3)traverse each row and each column of the dataframe\n",
        "\n",
        "4) Write a function to query if a values exists in the dataframe and return its complete column and complete row separately\n",
        "\n",
        "5) Apply 3 and 4 to Train and Test\n",
        "\n",
        "6) From the list of columns , construct all combinations of 3 values and for each combination combine their row values as  a combined column"
      ]
    },
    {
      "cell_type": "code",
      "metadata": {
        "id": "jsMU-mwCb5AJ",
        "colab_type": "code",
        "colab": {}
      },
      "source": [
        "import numpy as np\n",
        "import pandas as pd"
      ],
      "execution_count": 1,
      "outputs": []
    },
    {
      "cell_type": "code",
      "metadata": {
        "id": "SBU_UU1LdFDe",
        "colab_type": "code",
        "colab": {
          "base_uri": "https://localhost:8080/",
          "height": 191
        },
        "outputId": "5d70281d-291f-4f3c-e14f-aa0c3c392076"
      },
      "source": [
        "df=pd.read_csv('/content/Book1.csv')\n",
        "df.head()"
      ],
      "execution_count": 6,
      "outputs": [
        {
          "output_type": "execute_result",
          "data": {
            "text/html": [
              "<div>\n",
              "<style scoped>\n",
              "    .dataframe tbody tr th:only-of-type {\n",
              "        vertical-align: middle;\n",
              "    }\n",
              "\n",
              "    .dataframe tbody tr th {\n",
              "        vertical-align: top;\n",
              "    }\n",
              "\n",
              "    .dataframe thead th {\n",
              "        text-align: right;\n",
              "    }\n",
              "</style>\n",
              "<table border=\"1\" class=\"dataframe\">\n",
              "  <thead>\n",
              "    <tr style=\"text-align: right;\">\n",
              "      <th></th>\n",
              "      <th>PassengerId</th>\n",
              "      <th>Survived</th>\n",
              "      <th>Pclass</th>\n",
              "      <th>SibSp</th>\n",
              "      <th>Parch</th>\n",
              "      <th>Fare</th>\n",
              "    </tr>\n",
              "  </thead>\n",
              "  <tbody>\n",
              "    <tr>\n",
              "      <th>0</th>\n",
              "      <td>1</td>\n",
              "      <td>0</td>\n",
              "      <td>3</td>\n",
              "      <td>1</td>\n",
              "      <td>0</td>\n",
              "      <td>7</td>\n",
              "    </tr>\n",
              "    <tr>\n",
              "      <th>1</th>\n",
              "      <td>2</td>\n",
              "      <td>1</td>\n",
              "      <td>1</td>\n",
              "      <td>1</td>\n",
              "      <td>0</td>\n",
              "      <td>71</td>\n",
              "    </tr>\n",
              "    <tr>\n",
              "      <th>2</th>\n",
              "      <td>3</td>\n",
              "      <td>1</td>\n",
              "      <td>3</td>\n",
              "      <td>0</td>\n",
              "      <td>0</td>\n",
              "      <td>8</td>\n",
              "    </tr>\n",
              "    <tr>\n",
              "      <th>3</th>\n",
              "      <td>4</td>\n",
              "      <td>1</td>\n",
              "      <td>1</td>\n",
              "      <td>1</td>\n",
              "      <td>0</td>\n",
              "      <td>53</td>\n",
              "    </tr>\n",
              "    <tr>\n",
              "      <th>4</th>\n",
              "      <td>5</td>\n",
              "      <td>0</td>\n",
              "      <td>3</td>\n",
              "      <td>0</td>\n",
              "      <td>0</td>\n",
              "      <td>8</td>\n",
              "    </tr>\n",
              "  </tbody>\n",
              "</table>\n",
              "</div>"
            ],
            "text/plain": [
              "   PassengerId  Survived  Pclass  SibSp  Parch  Fare\n",
              "0            1         0       3      1      0     7\n",
              "1            2         1       1      1      0    71\n",
              "2            3         1       3      0      0     8\n",
              "3            4         1       1      1      0    53\n",
              "4            5         0       3      0      0     8"
            ]
          },
          "metadata": {
            "tags": []
          },
          "execution_count": 6
        }
      ]
    },
    {
      "cell_type": "code",
      "metadata": {
        "id": "S-ULiPf9eSHS",
        "colab_type": "code",
        "colab": {
          "base_uri": "https://localhost:8080/",
          "height": 33
        },
        "outputId": "09c87ecb-0116-4252-c561-ffe0c27d11c2"
      },
      "source": [
        "df.shape"
      ],
      "execution_count": 8,
      "outputs": [
        {
          "output_type": "execute_result",
          "data": {
            "text/plain": [
              "(1083, 6)"
            ]
          },
          "metadata": {
            "tags": []
          },
          "execution_count": 8
        }
      ]
    },
    {
      "cell_type": "code",
      "metadata": {
        "id": "Y5YkXNXyeYRA",
        "colab_type": "code",
        "colab": {
          "base_uri": "https://localhost:8080/",
          "height": 51
        },
        "outputId": "0c184b84-ef42-4d46-f7b1-6bb56fdaf78c"
      },
      "source": [
        "split_ratio=input(\"Enter the ratio of split of file into train and test\")\n",
        "split_ratio"
      ],
      "execution_count": 17,
      "outputs": [
        {
          "output_type": "stream",
          "text": [
            "Enter the ratio of split of file into train and test80:20\n"
          ],
          "name": "stdout"
        },
        {
          "output_type": "execute_result",
          "data": {
            "application/vnd.google.colaboratory.intrinsic+json": {
              "type": "string"
            },
            "text/plain": [
              "'80:20'"
            ]
          },
          "metadata": {
            "tags": []
          },
          "execution_count": 17
        }
      ]
    },
    {
      "cell_type": "code",
      "metadata": {
        "id": "dj_adGDifTDg",
        "colab_type": "code",
        "colab": {
          "base_uri": "https://localhost:8080/",
          "height": 33
        },
        "outputId": "66187e37-9f53-4297-f35a-41c483d92458"
      },
      "source": [
        "size=int(len(df)*0.8)\n",
        "size"
      ],
      "execution_count": 29,
      "outputs": [
        {
          "output_type": "execute_result",
          "data": {
            "text/plain": [
              "866"
            ]
          },
          "metadata": {
            "tags": []
          },
          "execution_count": 29
        }
      ]
    },
    {
      "cell_type": "code",
      "metadata": {
        "id": "KX2TkxRUfvfm",
        "colab_type": "code",
        "colab": {
          "base_uri": "https://localhost:8080/",
          "height": 33
        },
        "outputId": "9b5e75e6-08e0-4c69-f44c-b3d0c909cf10"
      },
      "source": [
        "train=df.iloc[:size]\n",
        "train.shape"
      ],
      "execution_count": 30,
      "outputs": [
        {
          "output_type": "execute_result",
          "data": {
            "text/plain": [
              "(866, 6)"
            ]
          },
          "metadata": {
            "tags": []
          },
          "execution_count": 30
        }
      ]
    },
    {
      "cell_type": "code",
      "metadata": {
        "id": "AAkZd9tZhQ4A",
        "colab_type": "code",
        "colab": {
          "base_uri": "https://localhost:8080/",
          "height": 33
        },
        "outputId": "1a7bfb41-c62f-4c95-ecd1-5a8cfb2feadf"
      },
      "source": [
        "test=df.iloc[size:]\n",
        "test.shape"
      ],
      "execution_count": 31,
      "outputs": [
        {
          "output_type": "execute_result",
          "data": {
            "text/plain": [
              "(217, 6)"
            ]
          },
          "metadata": {
            "tags": []
          },
          "execution_count": 31
        }
      ]
    },
    {
      "cell_type": "code",
      "metadata": {
        "id": "f7F7nwi2hUDO",
        "colab_type": "code",
        "colab": {
          "base_uri": "https://localhost:8080/",
          "height": 33
        },
        "outputId": "f5c38a1e-e9ba-4bb8-9019-2ae2e84b0c36"
      },
      "source": [
        "cols=list(df.columns)\n",
        "cols"
      ],
      "execution_count": 32,
      "outputs": [
        {
          "output_type": "execute_result",
          "data": {
            "text/plain": [
              "['PassengerId', 'Survived', 'Pclass', 'SibSp', 'Parch', 'Fare']"
            ]
          },
          "metadata": {
            "tags": []
          },
          "execution_count": 32
        }
      ]
    },
    {
      "cell_type": "code",
      "metadata": {
        "id": "4KA2mX8wiC39",
        "colab_type": "code",
        "colab": {}
      },
      "source": [
        "for col in cols:\n",
        "  for i in range(len(df)):\n",
        "    print(df.loc[i,col])"
      ],
      "execution_count": null,
      "outputs": []
    },
    {
      "cell_type": "code",
      "metadata": {
        "id": "06kBNtqTie74",
        "colab_type": "code",
        "colab": {
          "base_uri": "https://localhost:8080/",
          "height": 1000
        },
        "outputId": "b2abf49f-3583-4678-bb34-61c70cf1508e"
      },
      "source": [
        "for i,j in df.iteritems():\n",
        "  print(i,j)"
      ],
      "execution_count": 38,
      "outputs": [
        {
          "output_type": "stream",
          "text": [
            "PassengerId 0         1\n",
            "1         2\n",
            "2         3\n",
            "3         4\n",
            "4         5\n",
            "       ... \n",
            "1078    826\n",
            "1079    827\n",
            "1080    828\n",
            "1081    829\n",
            "1082    830\n",
            "Name: PassengerId, Length: 1083, dtype: int64\n",
            "Survived 0       0\n",
            "1       1\n",
            "2       1\n",
            "3       1\n",
            "4       0\n",
            "       ..\n",
            "1078    0\n",
            "1079    0\n",
            "1080    1\n",
            "1081    1\n",
            "1082    1\n",
            "Name: Survived, Length: 1083, dtype: int64\n",
            "Pclass 0       3\n",
            "1       1\n",
            "2       3\n",
            "3       1\n",
            "4       3\n",
            "       ..\n",
            "1078    3\n",
            "1079    3\n",
            "1080    2\n",
            "1081    3\n",
            "1082    1\n",
            "Name: Pclass, Length: 1083, dtype: int64\n",
            "SibSp 0       1\n",
            "1       1\n",
            "2       0\n",
            "3       1\n",
            "4       0\n",
            "       ..\n",
            "1078    0\n",
            "1079    0\n",
            "1080    0\n",
            "1081    0\n",
            "1082    0\n",
            "Name: SibSp, Length: 1083, dtype: int64\n",
            "Parch 0       0\n",
            "1       0\n",
            "2       0\n",
            "3       0\n",
            "4       0\n",
            "       ..\n",
            "1078    0\n",
            "1079    0\n",
            "1080    2\n",
            "1081    0\n",
            "1082    0\n",
            "Name: Parch, Length: 1083, dtype: int64\n",
            "Fare 0        7\n",
            "1       71\n",
            "2        8\n",
            "3       53\n",
            "4        8\n",
            "        ..\n",
            "1078     7\n",
            "1079    56\n",
            "1080    37\n",
            "1081     8\n",
            "1082    80\n",
            "Name: Fare, Length: 1083, dtype: int64\n"
          ],
          "name": "stdout"
        }
      ]
    },
    {
      "cell_type": "code",
      "metadata": {
        "id": "7dliupJWmnXR",
        "colab_type": "code",
        "colab": {}
      },
      "source": [
        "num=71\n",
        "def query(df):\n",
        "  row=[]\n",
        "  col=[]\n",
        "  for i in df.columns:\n",
        "    for j in range(len(df[i])):\n",
        "      if num in df[i][j]:\n",
        "        col.append(df.loc[i])\n",
        "        row.append(df[i])\n",
        "    return row,col"
      ],
      "execution_count": 39,
      "outputs": []
    },
    {
      "cell_type": "code",
      "metadata": {
        "id": "G0Hm0QH_ttz3",
        "colab_type": "code",
        "colab": {}
      },
      "source": [
        ""
      ],
      "execution_count": null,
      "outputs": []
    }
  ]
}